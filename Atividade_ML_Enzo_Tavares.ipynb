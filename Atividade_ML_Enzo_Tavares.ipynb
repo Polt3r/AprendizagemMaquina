{
  "nbformat": 4,
  "nbformat_minor": 0,
  "metadata": {
    "colab": {
      "provenance": [],
      "authorship_tag": "ABX9TyOrUSHrCR8HZBLt2y+hHTzc",
      "include_colab_link": true
    },
    "kernelspec": {
      "name": "python3",
      "display_name": "Python 3"
    },
    "language_info": {
      "name": "python"
    }
  },
  "cells": [
    {
      "cell_type": "markdown",
      "metadata": {
        "id": "view-in-github",
        "colab_type": "text"
      },
      "source": [
        "<a href=\"https://colab.research.google.com/github/Polt3r/AprendizagemMaquina/blob/main/Atividade_ML_Enzo_Tavares.ipynb\" target=\"_parent\"><img src=\"https://colab.research.google.com/assets/colab-badge.svg\" alt=\"Open In Colab\"/></a>"
      ]
    },
    {
      "cell_type": "markdown",
      "source": [
        "#Importando Bibliotecas"
      ],
      "metadata": {
        "id": "zkcrrzRVzsBG"
      }
    },
    {
      "cell_type": "code",
      "execution_count": null,
      "metadata": {
        "id": "ph4_4aZSzmNb"
      },
      "outputs": [],
      "source": [
        "import numpy as np\n",
        "import pandas as pd\n",
        "\n",
        "import matplotlib.pyplot as plt\n",
        "import seaborn as sns\n",
        "import plotly.express as px"
      ]
    },
    {
      "cell_type": "markdown",
      "source": [],
      "metadata": {
        "id": "sxjaG4I1z6cD"
      }
    },
    {
      "cell_type": "markdown",
      "source": [
        "#Importando Tabela\n"
      ],
      "metadata": {
        "id": "-Ore_AfPz9nE"
      }
    },
    {
      "cell_type": "code",
      "source": [
        "df = pd.read_excel('Planilha100.xlsx')"
      ],
      "metadata": {
        "id": "TfBLU9K2zxCE"
      },
      "execution_count": null,
      "outputs": []
    },
    {
      "cell_type": "code",
      "source": [
        "df"
      ],
      "metadata": {
        "colab": {
          "base_uri": "https://localhost:8080/",
          "height": 424
        },
        "id": "GaveVDMi0gG9",
        "outputId": "1e4c15a6-1895-4932-ab49-039faf152c0c"
      },
      "execution_count": null,
      "outputs": [
        {
          "output_type": "execute_result",
          "data": {
            "text/plain": [
              "     X1   X2   X3   X4   X5\n",
              "0   104  452  584  578  882\n",
              "1   972  750  182  936  563\n",
              "2   525   40  263  286  381\n",
              "3   740   33  929  444  539\n",
              "4   814  415  734  925  808\n",
              "..  ...  ...  ...  ...  ...\n",
              "94  112  543    7  695  362\n",
              "95  232  421  586  535    2\n",
              "96  946  208  709  448  678\n",
              "97  646  297  971  414  369\n",
              "98  112  543    7  695  362\n",
              "\n",
              "[99 rows x 5 columns]"
            ],
            "text/html": [
              "\n",
              "  <div id=\"df-61067247-b420-4272-bc45-da55e0c1401a\" class=\"colab-df-container\">\n",
              "    <div>\n",
              "<style scoped>\n",
              "    .dataframe tbody tr th:only-of-type {\n",
              "        vertical-align: middle;\n",
              "    }\n",
              "\n",
              "    .dataframe tbody tr th {\n",
              "        vertical-align: top;\n",
              "    }\n",
              "\n",
              "    .dataframe thead th {\n",
              "        text-align: right;\n",
              "    }\n",
              "</style>\n",
              "<table border=\"1\" class=\"dataframe\">\n",
              "  <thead>\n",
              "    <tr style=\"text-align: right;\">\n",
              "      <th></th>\n",
              "      <th>X1</th>\n",
              "      <th>X2</th>\n",
              "      <th>X3</th>\n",
              "      <th>X4</th>\n",
              "      <th>X5</th>\n",
              "    </tr>\n",
              "  </thead>\n",
              "  <tbody>\n",
              "    <tr>\n",
              "      <th>0</th>\n",
              "      <td>104</td>\n",
              "      <td>452</td>\n",
              "      <td>584</td>\n",
              "      <td>578</td>\n",
              "      <td>882</td>\n",
              "    </tr>\n",
              "    <tr>\n",
              "      <th>1</th>\n",
              "      <td>972</td>\n",
              "      <td>750</td>\n",
              "      <td>182</td>\n",
              "      <td>936</td>\n",
              "      <td>563</td>\n",
              "    </tr>\n",
              "    <tr>\n",
              "      <th>2</th>\n",
              "      <td>525</td>\n",
              "      <td>40</td>\n",
              "      <td>263</td>\n",
              "      <td>286</td>\n",
              "      <td>381</td>\n",
              "    </tr>\n",
              "    <tr>\n",
              "      <th>3</th>\n",
              "      <td>740</td>\n",
              "      <td>33</td>\n",
              "      <td>929</td>\n",
              "      <td>444</td>\n",
              "      <td>539</td>\n",
              "    </tr>\n",
              "    <tr>\n",
              "      <th>4</th>\n",
              "      <td>814</td>\n",
              "      <td>415</td>\n",
              "      <td>734</td>\n",
              "      <td>925</td>\n",
              "      <td>808</td>\n",
              "    </tr>\n",
              "    <tr>\n",
              "      <th>...</th>\n",
              "      <td>...</td>\n",
              "      <td>...</td>\n",
              "      <td>...</td>\n",
              "      <td>...</td>\n",
              "      <td>...</td>\n",
              "    </tr>\n",
              "    <tr>\n",
              "      <th>94</th>\n",
              "      <td>112</td>\n",
              "      <td>543</td>\n",
              "      <td>7</td>\n",
              "      <td>695</td>\n",
              "      <td>362</td>\n",
              "    </tr>\n",
              "    <tr>\n",
              "      <th>95</th>\n",
              "      <td>232</td>\n",
              "      <td>421</td>\n",
              "      <td>586</td>\n",
              "      <td>535</td>\n",
              "      <td>2</td>\n",
              "    </tr>\n",
              "    <tr>\n",
              "      <th>96</th>\n",
              "      <td>946</td>\n",
              "      <td>208</td>\n",
              "      <td>709</td>\n",
              "      <td>448</td>\n",
              "      <td>678</td>\n",
              "    </tr>\n",
              "    <tr>\n",
              "      <th>97</th>\n",
              "      <td>646</td>\n",
              "      <td>297</td>\n",
              "      <td>971</td>\n",
              "      <td>414</td>\n",
              "      <td>369</td>\n",
              "    </tr>\n",
              "    <tr>\n",
              "      <th>98</th>\n",
              "      <td>112</td>\n",
              "      <td>543</td>\n",
              "      <td>7</td>\n",
              "      <td>695</td>\n",
              "      <td>362</td>\n",
              "    </tr>\n",
              "  </tbody>\n",
              "</table>\n",
              "<p>99 rows × 5 columns</p>\n",
              "</div>\n",
              "    <div class=\"colab-df-buttons\">\n",
              "\n",
              "  <div class=\"colab-df-container\">\n",
              "    <button class=\"colab-df-convert\" onclick=\"convertToInteractive('df-61067247-b420-4272-bc45-da55e0c1401a')\"\n",
              "            title=\"Convert this dataframe to an interactive table.\"\n",
              "            style=\"display:none;\">\n",
              "\n",
              "  <svg xmlns=\"http://www.w3.org/2000/svg\" height=\"24px\" viewBox=\"0 -960 960 960\">\n",
              "    <path d=\"M120-120v-720h720v720H120Zm60-500h600v-160H180v160Zm220 220h160v-160H400v160Zm0 220h160v-160H400v160ZM180-400h160v-160H180v160Zm440 0h160v-160H620v160ZM180-180h160v-160H180v160Zm440 0h160v-160H620v160Z\"/>\n",
              "  </svg>\n",
              "    </button>\n",
              "\n",
              "  <style>\n",
              "    .colab-df-container {\n",
              "      display:flex;\n",
              "      gap: 12px;\n",
              "    }\n",
              "\n",
              "    .colab-df-convert {\n",
              "      background-color: #E8F0FE;\n",
              "      border: none;\n",
              "      border-radius: 50%;\n",
              "      cursor: pointer;\n",
              "      display: none;\n",
              "      fill: #1967D2;\n",
              "      height: 32px;\n",
              "      padding: 0 0 0 0;\n",
              "      width: 32px;\n",
              "    }\n",
              "\n",
              "    .colab-df-convert:hover {\n",
              "      background-color: #E2EBFA;\n",
              "      box-shadow: 0px 1px 2px rgba(60, 64, 67, 0.3), 0px 1px 3px 1px rgba(60, 64, 67, 0.15);\n",
              "      fill: #174EA6;\n",
              "    }\n",
              "\n",
              "    .colab-df-buttons div {\n",
              "      margin-bottom: 4px;\n",
              "    }\n",
              "\n",
              "    [theme=dark] .colab-df-convert {\n",
              "      background-color: #3B4455;\n",
              "      fill: #D2E3FC;\n",
              "    }\n",
              "\n",
              "    [theme=dark] .colab-df-convert:hover {\n",
              "      background-color: #434B5C;\n",
              "      box-shadow: 0px 1px 3px 1px rgba(0, 0, 0, 0.15);\n",
              "      filter: drop-shadow(0px 1px 2px rgba(0, 0, 0, 0.3));\n",
              "      fill: #FFFFFF;\n",
              "    }\n",
              "  </style>\n",
              "\n",
              "    <script>\n",
              "      const buttonEl =\n",
              "        document.querySelector('#df-61067247-b420-4272-bc45-da55e0c1401a button.colab-df-convert');\n",
              "      buttonEl.style.display =\n",
              "        google.colab.kernel.accessAllowed ? 'block' : 'none';\n",
              "\n",
              "      async function convertToInteractive(key) {\n",
              "        const element = document.querySelector('#df-61067247-b420-4272-bc45-da55e0c1401a');\n",
              "        const dataTable =\n",
              "          await google.colab.kernel.invokeFunction('convertToInteractive',\n",
              "                                                    [key], {});\n",
              "        if (!dataTable) return;\n",
              "\n",
              "        const docLinkHtml = 'Like what you see? Visit the ' +\n",
              "          '<a target=\"_blank\" href=https://colab.research.google.com/notebooks/data_table.ipynb>data table notebook</a>'\n",
              "          + ' to learn more about interactive tables.';\n",
              "        element.innerHTML = '';\n",
              "        dataTable['output_type'] = 'display_data';\n",
              "        await google.colab.output.renderOutput(dataTable, element);\n",
              "        const docLink = document.createElement('div');\n",
              "        docLink.innerHTML = docLinkHtml;\n",
              "        element.appendChild(docLink);\n",
              "      }\n",
              "    </script>\n",
              "  </div>\n",
              "\n",
              "\n",
              "<div id=\"df-57a04e47-e987-4476-a253-63dc95efa4e1\">\n",
              "  <button class=\"colab-df-quickchart\" onclick=\"quickchart('df-57a04e47-e987-4476-a253-63dc95efa4e1')\"\n",
              "            title=\"Suggest charts\"\n",
              "            style=\"display:none;\">\n",
              "\n",
              "<svg xmlns=\"http://www.w3.org/2000/svg\" height=\"24px\"viewBox=\"0 0 24 24\"\n",
              "     width=\"24px\">\n",
              "    <g>\n",
              "        <path d=\"M19 3H5c-1.1 0-2 .9-2 2v14c0 1.1.9 2 2 2h14c1.1 0 2-.9 2-2V5c0-1.1-.9-2-2-2zM9 17H7v-7h2v7zm4 0h-2V7h2v10zm4 0h-2v-4h2v4z\"/>\n",
              "    </g>\n",
              "</svg>\n",
              "  </button>\n",
              "\n",
              "<style>\n",
              "  .colab-df-quickchart {\n",
              "      --bg-color: #E8F0FE;\n",
              "      --fill-color: #1967D2;\n",
              "      --hover-bg-color: #E2EBFA;\n",
              "      --hover-fill-color: #174EA6;\n",
              "      --disabled-fill-color: #AAA;\n",
              "      --disabled-bg-color: #DDD;\n",
              "  }\n",
              "\n",
              "  [theme=dark] .colab-df-quickchart {\n",
              "      --bg-color: #3B4455;\n",
              "      --fill-color: #D2E3FC;\n",
              "      --hover-bg-color: #434B5C;\n",
              "      --hover-fill-color: #FFFFFF;\n",
              "      --disabled-bg-color: #3B4455;\n",
              "      --disabled-fill-color: #666;\n",
              "  }\n",
              "\n",
              "  .colab-df-quickchart {\n",
              "    background-color: var(--bg-color);\n",
              "    border: none;\n",
              "    border-radius: 50%;\n",
              "    cursor: pointer;\n",
              "    display: none;\n",
              "    fill: var(--fill-color);\n",
              "    height: 32px;\n",
              "    padding: 0;\n",
              "    width: 32px;\n",
              "  }\n",
              "\n",
              "  .colab-df-quickchart:hover {\n",
              "    background-color: var(--hover-bg-color);\n",
              "    box-shadow: 0 1px 2px rgba(60, 64, 67, 0.3), 0 1px 3px 1px rgba(60, 64, 67, 0.15);\n",
              "    fill: var(--button-hover-fill-color);\n",
              "  }\n",
              "\n",
              "  .colab-df-quickchart-complete:disabled,\n",
              "  .colab-df-quickchart-complete:disabled:hover {\n",
              "    background-color: var(--disabled-bg-color);\n",
              "    fill: var(--disabled-fill-color);\n",
              "    box-shadow: none;\n",
              "  }\n",
              "\n",
              "  .colab-df-spinner {\n",
              "    border: 2px solid var(--fill-color);\n",
              "    border-color: transparent;\n",
              "    border-bottom-color: var(--fill-color);\n",
              "    animation:\n",
              "      spin 1s steps(1) infinite;\n",
              "  }\n",
              "\n",
              "  @keyframes spin {\n",
              "    0% {\n",
              "      border-color: transparent;\n",
              "      border-bottom-color: var(--fill-color);\n",
              "      border-left-color: var(--fill-color);\n",
              "    }\n",
              "    20% {\n",
              "      border-color: transparent;\n",
              "      border-left-color: var(--fill-color);\n",
              "      border-top-color: var(--fill-color);\n",
              "    }\n",
              "    30% {\n",
              "      border-color: transparent;\n",
              "      border-left-color: var(--fill-color);\n",
              "      border-top-color: var(--fill-color);\n",
              "      border-right-color: var(--fill-color);\n",
              "    }\n",
              "    40% {\n",
              "      border-color: transparent;\n",
              "      border-right-color: var(--fill-color);\n",
              "      border-top-color: var(--fill-color);\n",
              "    }\n",
              "    60% {\n",
              "      border-color: transparent;\n",
              "      border-right-color: var(--fill-color);\n",
              "    }\n",
              "    80% {\n",
              "      border-color: transparent;\n",
              "      border-right-color: var(--fill-color);\n",
              "      border-bottom-color: var(--fill-color);\n",
              "    }\n",
              "    90% {\n",
              "      border-color: transparent;\n",
              "      border-bottom-color: var(--fill-color);\n",
              "    }\n",
              "  }\n",
              "</style>\n",
              "\n",
              "  <script>\n",
              "    async function quickchart(key) {\n",
              "      const quickchartButtonEl =\n",
              "        document.querySelector('#' + key + ' button');\n",
              "      quickchartButtonEl.disabled = true;  // To prevent multiple clicks.\n",
              "      quickchartButtonEl.classList.add('colab-df-spinner');\n",
              "      try {\n",
              "        const charts = await google.colab.kernel.invokeFunction(\n",
              "            'suggestCharts', [key], {});\n",
              "      } catch (error) {\n",
              "        console.error('Error during call to suggestCharts:', error);\n",
              "      }\n",
              "      quickchartButtonEl.classList.remove('colab-df-spinner');\n",
              "      quickchartButtonEl.classList.add('colab-df-quickchart-complete');\n",
              "    }\n",
              "    (() => {\n",
              "      let quickchartButtonEl =\n",
              "        document.querySelector('#df-57a04e47-e987-4476-a253-63dc95efa4e1 button');\n",
              "      quickchartButtonEl.style.display =\n",
              "        google.colab.kernel.accessAllowed ? 'block' : 'none';\n",
              "    })();\n",
              "  </script>\n",
              "</div>\n",
              "\n",
              "  <div id=\"id_1fad6c8a-af83-409a-9149-f5865efd419e\">\n",
              "    <style>\n",
              "      .colab-df-generate {\n",
              "        background-color: #E8F0FE;\n",
              "        border: none;\n",
              "        border-radius: 50%;\n",
              "        cursor: pointer;\n",
              "        display: none;\n",
              "        fill: #1967D2;\n",
              "        height: 32px;\n",
              "        padding: 0 0 0 0;\n",
              "        width: 32px;\n",
              "      }\n",
              "\n",
              "      .colab-df-generate:hover {\n",
              "        background-color: #E2EBFA;\n",
              "        box-shadow: 0px 1px 2px rgba(60, 64, 67, 0.3), 0px 1px 3px 1px rgba(60, 64, 67, 0.15);\n",
              "        fill: #174EA6;\n",
              "      }\n",
              "\n",
              "      [theme=dark] .colab-df-generate {\n",
              "        background-color: #3B4455;\n",
              "        fill: #D2E3FC;\n",
              "      }\n",
              "\n",
              "      [theme=dark] .colab-df-generate:hover {\n",
              "        background-color: #434B5C;\n",
              "        box-shadow: 0px 1px 3px 1px rgba(0, 0, 0, 0.15);\n",
              "        filter: drop-shadow(0px 1px 2px rgba(0, 0, 0, 0.3));\n",
              "        fill: #FFFFFF;\n",
              "      }\n",
              "    </style>\n",
              "    <button class=\"colab-df-generate\" onclick=\"generateWithVariable('df')\"\n",
              "            title=\"Generate code using this dataframe.\"\n",
              "            style=\"display:none;\">\n",
              "\n",
              "  <svg xmlns=\"http://www.w3.org/2000/svg\" height=\"24px\"viewBox=\"0 0 24 24\"\n",
              "       width=\"24px\">\n",
              "    <path d=\"M7,19H8.4L18.45,9,17,7.55,7,17.6ZM5,21V16.75L18.45,3.32a2,2,0,0,1,2.83,0l1.4,1.43a1.91,1.91,0,0,1,.58,1.4,1.91,1.91,0,0,1-.58,1.4L9.25,21ZM18.45,9,17,7.55Zm-12,3A5.31,5.31,0,0,0,4.9,8.1,5.31,5.31,0,0,0,1,6.5,5.31,5.31,0,0,0,4.9,4.9,5.31,5.31,0,0,0,6.5,1,5.31,5.31,0,0,0,8.1,4.9,5.31,5.31,0,0,0,12,6.5,5.46,5.46,0,0,0,6.5,12Z\"/>\n",
              "  </svg>\n",
              "    </button>\n",
              "    <script>\n",
              "      (() => {\n",
              "      const buttonEl =\n",
              "        document.querySelector('#id_1fad6c8a-af83-409a-9149-f5865efd419e button.colab-df-generate');\n",
              "      buttonEl.style.display =\n",
              "        google.colab.kernel.accessAllowed ? 'block' : 'none';\n",
              "\n",
              "      buttonEl.onclick = () => {\n",
              "        google.colab.notebook.generateWithVariable('df');\n",
              "      }\n",
              "      })();\n",
              "    </script>\n",
              "  </div>\n",
              "\n",
              "    </div>\n",
              "  </div>\n"
            ],
            "application/vnd.google.colaboratory.intrinsic+json": {
              "type": "dataframe",
              "variable_name": "df",
              "summary": "{\n  \"name\": \"df\",\n  \"rows\": 99,\n  \"fields\": [\n    {\n      \"column\": \"X1\",\n      \"properties\": {\n        \"dtype\": \"number\",\n        \"std\": 311,\n        \"min\": 0,\n        \"max\": 972,\n        \"num_unique_values\": 20,\n        \"samples\": [\n          104,\n          647,\n          0\n        ],\n        \"semantic_type\": \"\",\n        \"description\": \"\"\n      }\n    },\n    {\n      \"column\": \"X2\",\n      \"properties\": {\n        \"dtype\": \"number\",\n        \"std\": 240,\n        \"min\": 0,\n        \"max\": 793,\n        \"num_unique_values\": 21,\n        \"samples\": [\n          452,\n          543,\n          188\n        ],\n        \"semantic_type\": \"\",\n        \"description\": \"\"\n      }\n    },\n    {\n      \"column\": \"X3\",\n      \"properties\": {\n        \"dtype\": \"number\",\n        \"std\": 270,\n        \"min\": 7,\n        \"max\": 971,\n        \"num_unique_values\": 20,\n        \"samples\": [\n          584,\n          862,\n          426\n        ],\n        \"semantic_type\": \"\",\n        \"description\": \"\"\n      }\n    },\n    {\n      \"column\": \"X4\",\n      \"properties\": {\n        \"dtype\": \"number\",\n        \"std\": 296,\n        \"min\": 8,\n        \"max\": 998,\n        \"num_unique_values\": 20,\n        \"samples\": [\n          578,\n          99,\n          86\n        ],\n        \"semantic_type\": \"\",\n        \"description\": \"\"\n      }\n    },\n    {\n      \"column\": \"X5\",\n      \"properties\": {\n        \"dtype\": \"number\",\n        \"std\": 235,\n        \"min\": 0,\n        \"max\": 882,\n        \"num_unique_values\": 21,\n        \"samples\": [\n          882,\n          362,\n          470\n        ],\n        \"semantic_type\": \"\",\n        \"description\": \"\"\n      }\n    }\n  ]\n}"
            }
          },
          "metadata": {},
          "execution_count": 19
        }
      ]
    },
    {
      "cell_type": "code",
      "source": [
        "df.describe()"
      ],
      "metadata": {
        "colab": {
          "base_uri": "https://localhost:8080/",
          "height": 300
        },
        "id": "8qFo-hh60k8j",
        "outputId": "1b4be1eb-6d34-422a-dd22-32d704266bb4"
      },
      "execution_count": null,
      "outputs": [
        {
          "output_type": "execute_result",
          "data": {
            "text/plain": [
              "               X1          X2          X3          X4          X5\n",
              "count   99.000000   99.000000   99.000000   99.000000   99.000000\n",
              "mean   398.717172  385.383838  517.232323  534.484848  536.323232\n",
              "std    311.022312  240.021075  270.271324  296.735000  235.494609\n",
              "min      0.000000    0.000000    7.000000    8.000000    0.000000\n",
              "25%     90.000000  155.000000  263.000000  286.000000  334.000000\n",
              "50%    445.000000  415.000000  556.000000  535.000000  563.000000\n",
              "75%    525.000000  607.000000  709.000000  697.000000  681.000000\n",
              "max    972.000000  793.000000  971.000000  998.000000  882.000000"
            ],
            "text/html": [
              "\n",
              "  <div id=\"df-ecb37132-4572-4f24-8cdf-a5eae77e3f4e\" class=\"colab-df-container\">\n",
              "    <div>\n",
              "<style scoped>\n",
              "    .dataframe tbody tr th:only-of-type {\n",
              "        vertical-align: middle;\n",
              "    }\n",
              "\n",
              "    .dataframe tbody tr th {\n",
              "        vertical-align: top;\n",
              "    }\n",
              "\n",
              "    .dataframe thead th {\n",
              "        text-align: right;\n",
              "    }\n",
              "</style>\n",
              "<table border=\"1\" class=\"dataframe\">\n",
              "  <thead>\n",
              "    <tr style=\"text-align: right;\">\n",
              "      <th></th>\n",
              "      <th>X1</th>\n",
              "      <th>X2</th>\n",
              "      <th>X3</th>\n",
              "      <th>X4</th>\n",
              "      <th>X5</th>\n",
              "    </tr>\n",
              "  </thead>\n",
              "  <tbody>\n",
              "    <tr>\n",
              "      <th>count</th>\n",
              "      <td>99.000000</td>\n",
              "      <td>99.000000</td>\n",
              "      <td>99.000000</td>\n",
              "      <td>99.000000</td>\n",
              "      <td>99.000000</td>\n",
              "    </tr>\n",
              "    <tr>\n",
              "      <th>mean</th>\n",
              "      <td>398.717172</td>\n",
              "      <td>385.383838</td>\n",
              "      <td>517.232323</td>\n",
              "      <td>534.484848</td>\n",
              "      <td>536.323232</td>\n",
              "    </tr>\n",
              "    <tr>\n",
              "      <th>std</th>\n",
              "      <td>311.022312</td>\n",
              "      <td>240.021075</td>\n",
              "      <td>270.271324</td>\n",
              "      <td>296.735000</td>\n",
              "      <td>235.494609</td>\n",
              "    </tr>\n",
              "    <tr>\n",
              "      <th>min</th>\n",
              "      <td>0.000000</td>\n",
              "      <td>0.000000</td>\n",
              "      <td>7.000000</td>\n",
              "      <td>8.000000</td>\n",
              "      <td>0.000000</td>\n",
              "    </tr>\n",
              "    <tr>\n",
              "      <th>25%</th>\n",
              "      <td>90.000000</td>\n",
              "      <td>155.000000</td>\n",
              "      <td>263.000000</td>\n",
              "      <td>286.000000</td>\n",
              "      <td>334.000000</td>\n",
              "    </tr>\n",
              "    <tr>\n",
              "      <th>50%</th>\n",
              "      <td>445.000000</td>\n",
              "      <td>415.000000</td>\n",
              "      <td>556.000000</td>\n",
              "      <td>535.000000</td>\n",
              "      <td>563.000000</td>\n",
              "    </tr>\n",
              "    <tr>\n",
              "      <th>75%</th>\n",
              "      <td>525.000000</td>\n",
              "      <td>607.000000</td>\n",
              "      <td>709.000000</td>\n",
              "      <td>697.000000</td>\n",
              "      <td>681.000000</td>\n",
              "    </tr>\n",
              "    <tr>\n",
              "      <th>max</th>\n",
              "      <td>972.000000</td>\n",
              "      <td>793.000000</td>\n",
              "      <td>971.000000</td>\n",
              "      <td>998.000000</td>\n",
              "      <td>882.000000</td>\n",
              "    </tr>\n",
              "  </tbody>\n",
              "</table>\n",
              "</div>\n",
              "    <div class=\"colab-df-buttons\">\n",
              "\n",
              "  <div class=\"colab-df-container\">\n",
              "    <button class=\"colab-df-convert\" onclick=\"convertToInteractive('df-ecb37132-4572-4f24-8cdf-a5eae77e3f4e')\"\n",
              "            title=\"Convert this dataframe to an interactive table.\"\n",
              "            style=\"display:none;\">\n",
              "\n",
              "  <svg xmlns=\"http://www.w3.org/2000/svg\" height=\"24px\" viewBox=\"0 -960 960 960\">\n",
              "    <path d=\"M120-120v-720h720v720H120Zm60-500h600v-160H180v160Zm220 220h160v-160H400v160Zm0 220h160v-160H400v160ZM180-400h160v-160H180v160Zm440 0h160v-160H620v160ZM180-180h160v-160H180v160Zm440 0h160v-160H620v160Z\"/>\n",
              "  </svg>\n",
              "    </button>\n",
              "\n",
              "  <style>\n",
              "    .colab-df-container {\n",
              "      display:flex;\n",
              "      gap: 12px;\n",
              "    }\n",
              "\n",
              "    .colab-df-convert {\n",
              "      background-color: #E8F0FE;\n",
              "      border: none;\n",
              "      border-radius: 50%;\n",
              "      cursor: pointer;\n",
              "      display: none;\n",
              "      fill: #1967D2;\n",
              "      height: 32px;\n",
              "      padding: 0 0 0 0;\n",
              "      width: 32px;\n",
              "    }\n",
              "\n",
              "    .colab-df-convert:hover {\n",
              "      background-color: #E2EBFA;\n",
              "      box-shadow: 0px 1px 2px rgba(60, 64, 67, 0.3), 0px 1px 3px 1px rgba(60, 64, 67, 0.15);\n",
              "      fill: #174EA6;\n",
              "    }\n",
              "\n",
              "    .colab-df-buttons div {\n",
              "      margin-bottom: 4px;\n",
              "    }\n",
              "\n",
              "    [theme=dark] .colab-df-convert {\n",
              "      background-color: #3B4455;\n",
              "      fill: #D2E3FC;\n",
              "    }\n",
              "\n",
              "    [theme=dark] .colab-df-convert:hover {\n",
              "      background-color: #434B5C;\n",
              "      box-shadow: 0px 1px 3px 1px rgba(0, 0, 0, 0.15);\n",
              "      filter: drop-shadow(0px 1px 2px rgba(0, 0, 0, 0.3));\n",
              "      fill: #FFFFFF;\n",
              "    }\n",
              "  </style>\n",
              "\n",
              "    <script>\n",
              "      const buttonEl =\n",
              "        document.querySelector('#df-ecb37132-4572-4f24-8cdf-a5eae77e3f4e button.colab-df-convert');\n",
              "      buttonEl.style.display =\n",
              "        google.colab.kernel.accessAllowed ? 'block' : 'none';\n",
              "\n",
              "      async function convertToInteractive(key) {\n",
              "        const element = document.querySelector('#df-ecb37132-4572-4f24-8cdf-a5eae77e3f4e');\n",
              "        const dataTable =\n",
              "          await google.colab.kernel.invokeFunction('convertToInteractive',\n",
              "                                                    [key], {});\n",
              "        if (!dataTable) return;\n",
              "\n",
              "        const docLinkHtml = 'Like what you see? Visit the ' +\n",
              "          '<a target=\"_blank\" href=https://colab.research.google.com/notebooks/data_table.ipynb>data table notebook</a>'\n",
              "          + ' to learn more about interactive tables.';\n",
              "        element.innerHTML = '';\n",
              "        dataTable['output_type'] = 'display_data';\n",
              "        await google.colab.output.renderOutput(dataTable, element);\n",
              "        const docLink = document.createElement('div');\n",
              "        docLink.innerHTML = docLinkHtml;\n",
              "        element.appendChild(docLink);\n",
              "      }\n",
              "    </script>\n",
              "  </div>\n",
              "\n",
              "\n",
              "<div id=\"df-bc76ebdd-92e7-47db-a9a9-39c8bbf5f216\">\n",
              "  <button class=\"colab-df-quickchart\" onclick=\"quickchart('df-bc76ebdd-92e7-47db-a9a9-39c8bbf5f216')\"\n",
              "            title=\"Suggest charts\"\n",
              "            style=\"display:none;\">\n",
              "\n",
              "<svg xmlns=\"http://www.w3.org/2000/svg\" height=\"24px\"viewBox=\"0 0 24 24\"\n",
              "     width=\"24px\">\n",
              "    <g>\n",
              "        <path d=\"M19 3H5c-1.1 0-2 .9-2 2v14c0 1.1.9 2 2 2h14c1.1 0 2-.9 2-2V5c0-1.1-.9-2-2-2zM9 17H7v-7h2v7zm4 0h-2V7h2v10zm4 0h-2v-4h2v4z\"/>\n",
              "    </g>\n",
              "</svg>\n",
              "  </button>\n",
              "\n",
              "<style>\n",
              "  .colab-df-quickchart {\n",
              "      --bg-color: #E8F0FE;\n",
              "      --fill-color: #1967D2;\n",
              "      --hover-bg-color: #E2EBFA;\n",
              "      --hover-fill-color: #174EA6;\n",
              "      --disabled-fill-color: #AAA;\n",
              "      --disabled-bg-color: #DDD;\n",
              "  }\n",
              "\n",
              "  [theme=dark] .colab-df-quickchart {\n",
              "      --bg-color: #3B4455;\n",
              "      --fill-color: #D2E3FC;\n",
              "      --hover-bg-color: #434B5C;\n",
              "      --hover-fill-color: #FFFFFF;\n",
              "      --disabled-bg-color: #3B4455;\n",
              "      --disabled-fill-color: #666;\n",
              "  }\n",
              "\n",
              "  .colab-df-quickchart {\n",
              "    background-color: var(--bg-color);\n",
              "    border: none;\n",
              "    border-radius: 50%;\n",
              "    cursor: pointer;\n",
              "    display: none;\n",
              "    fill: var(--fill-color);\n",
              "    height: 32px;\n",
              "    padding: 0;\n",
              "    width: 32px;\n",
              "  }\n",
              "\n",
              "  .colab-df-quickchart:hover {\n",
              "    background-color: var(--hover-bg-color);\n",
              "    box-shadow: 0 1px 2px rgba(60, 64, 67, 0.3), 0 1px 3px 1px rgba(60, 64, 67, 0.15);\n",
              "    fill: var(--button-hover-fill-color);\n",
              "  }\n",
              "\n",
              "  .colab-df-quickchart-complete:disabled,\n",
              "  .colab-df-quickchart-complete:disabled:hover {\n",
              "    background-color: var(--disabled-bg-color);\n",
              "    fill: var(--disabled-fill-color);\n",
              "    box-shadow: none;\n",
              "  }\n",
              "\n",
              "  .colab-df-spinner {\n",
              "    border: 2px solid var(--fill-color);\n",
              "    border-color: transparent;\n",
              "    border-bottom-color: var(--fill-color);\n",
              "    animation:\n",
              "      spin 1s steps(1) infinite;\n",
              "  }\n",
              "\n",
              "  @keyframes spin {\n",
              "    0% {\n",
              "      border-color: transparent;\n",
              "      border-bottom-color: var(--fill-color);\n",
              "      border-left-color: var(--fill-color);\n",
              "    }\n",
              "    20% {\n",
              "      border-color: transparent;\n",
              "      border-left-color: var(--fill-color);\n",
              "      border-top-color: var(--fill-color);\n",
              "    }\n",
              "    30% {\n",
              "      border-color: transparent;\n",
              "      border-left-color: var(--fill-color);\n",
              "      border-top-color: var(--fill-color);\n",
              "      border-right-color: var(--fill-color);\n",
              "    }\n",
              "    40% {\n",
              "      border-color: transparent;\n",
              "      border-right-color: var(--fill-color);\n",
              "      border-top-color: var(--fill-color);\n",
              "    }\n",
              "    60% {\n",
              "      border-color: transparent;\n",
              "      border-right-color: var(--fill-color);\n",
              "    }\n",
              "    80% {\n",
              "      border-color: transparent;\n",
              "      border-right-color: var(--fill-color);\n",
              "      border-bottom-color: var(--fill-color);\n",
              "    }\n",
              "    90% {\n",
              "      border-color: transparent;\n",
              "      border-bottom-color: var(--fill-color);\n",
              "    }\n",
              "  }\n",
              "</style>\n",
              "\n",
              "  <script>\n",
              "    async function quickchart(key) {\n",
              "      const quickchartButtonEl =\n",
              "        document.querySelector('#' + key + ' button');\n",
              "      quickchartButtonEl.disabled = true;  // To prevent multiple clicks.\n",
              "      quickchartButtonEl.classList.add('colab-df-spinner');\n",
              "      try {\n",
              "        const charts = await google.colab.kernel.invokeFunction(\n",
              "            'suggestCharts', [key], {});\n",
              "      } catch (error) {\n",
              "        console.error('Error during call to suggestCharts:', error);\n",
              "      }\n",
              "      quickchartButtonEl.classList.remove('colab-df-spinner');\n",
              "      quickchartButtonEl.classList.add('colab-df-quickchart-complete');\n",
              "    }\n",
              "    (() => {\n",
              "      let quickchartButtonEl =\n",
              "        document.querySelector('#df-bc76ebdd-92e7-47db-a9a9-39c8bbf5f216 button');\n",
              "      quickchartButtonEl.style.display =\n",
              "        google.colab.kernel.accessAllowed ? 'block' : 'none';\n",
              "    })();\n",
              "  </script>\n",
              "</div>\n",
              "\n",
              "    </div>\n",
              "  </div>\n"
            ],
            "application/vnd.google.colaboratory.intrinsic+json": {
              "type": "dataframe",
              "summary": "{\n  \"name\": \"df\",\n  \"rows\": 8,\n  \"fields\": [\n    {\n      \"column\": \"X1\",\n      \"properties\": {\n        \"dtype\": \"number\",\n        \"std\": 312.4374588427124,\n        \"min\": 0.0,\n        \"max\": 972.0,\n        \"num_unique_values\": 8,\n        \"samples\": [\n          398.7171717171717,\n          445.0,\n          99.0\n        ],\n        \"semantic_type\": \"\",\n        \"description\": \"\"\n      }\n    },\n    {\n      \"column\": \"X2\",\n      \"properties\": {\n        \"dtype\": \"number\",\n        \"std\": 267.7959216755734,\n        \"min\": 0.0,\n        \"max\": 793.0,\n        \"num_unique_values\": 8,\n        \"samples\": [\n          385.3838383838384,\n          415.0,\n          99.0\n        ],\n        \"semantic_type\": \"\",\n        \"description\": \"\"\n      }\n    },\n    {\n      \"column\": \"X3\",\n      \"properties\": {\n        \"dtype\": \"number\",\n        \"std\": 324.173176900319,\n        \"min\": 7.0,\n        \"max\": 971.0,\n        \"num_unique_values\": 8,\n        \"samples\": [\n          517.2323232323232,\n          556.0,\n          99.0\n        ],\n        \"semantic_type\": \"\",\n        \"description\": \"\"\n      }\n    },\n    {\n      \"column\": \"X4\",\n      \"properties\": {\n        \"dtype\": \"number\",\n        \"std\": 325.5699108945958,\n        \"min\": 8.0,\n        \"max\": 998.0,\n        \"num_unique_values\": 8,\n        \"samples\": [\n          534.4848484848485,\n          535.0,\n          99.0\n        ],\n        \"semantic_type\": \"\",\n        \"description\": \"\"\n      }\n    },\n    {\n      \"column\": \"X5\",\n      \"properties\": {\n        \"dtype\": \"number\",\n        \"std\": 301.5005055562463,\n        \"min\": 0.0,\n        \"max\": 882.0,\n        \"num_unique_values\": 8,\n        \"samples\": [\n          536.3232323232323,\n          563.0,\n          99.0\n        ],\n        \"semantic_type\": \"\",\n        \"description\": \"\"\n      }\n    }\n  ]\n}"
            }
          },
          "metadata": {},
          "execution_count": 20
        }
      ]
    },
    {
      "cell_type": "markdown",
      "source": [
        "##Heatmap"
      ],
      "metadata": {
        "id": "kmFA_PKz1e2N"
      }
    },
    {
      "cell_type": "code",
      "source": [
        "sns.heatmap(df.corr(), annot = True)"
      ],
      "metadata": {
        "colab": {
          "base_uri": "https://localhost:8080/",
          "height": 452
        },
        "id": "SQa0DGjP0yv8",
        "outputId": "2b924bfb-583e-4a89-c002-638f953ccad7"
      },
      "execution_count": null,
      "outputs": [
        {
          "output_type": "execute_result",
          "data": {
            "text/plain": [
              "<Axes: >"
            ]
          },
          "metadata": {},
          "execution_count": 21
        },
        {
          "output_type": "display_data",
          "data": {
            "text/plain": [
              "<Figure size 640x480 with 2 Axes>"
            ],
            "image/png": "[encoded data removed]"
          },
          "metadata": {}
        }
      ]
    },
    {
      "cell_type": "markdown",
      "source": [
        "##Boxplot"
      ],
      "metadata": {
        "id": "MlG_bggN1o67"
      }
    },
    {
      "cell_type": "code",
      "source": [
        "df.boxplot()"
      ],
      "metadata": {
        "colab": {
          "base_uri": "https://localhost:8080/",
          "height": 447
        },
        "id": "gMsDjM4O1G_z",
        "outputId": "9391530d-6bec-4f7d-c73a-fadf2281a967"
      },
      "execution_count": null,
      "outputs": [
        {
          "output_type": "execute_result",
          "data": {
            "text/plain": [
              "<Axes: >"
            ]
          },
          "metadata": {},
          "execution_count": 22
        },
        {
          "output_type": "display_data",
          "data": {
            "text/plain": [
              "<Figure size 640x480 with 1 Axes>"
            ],
            "image/png": "[encoded data removed]"
          },
          "metadata": {}
        }
      ]
    },
    {
      "cell_type": "markdown",
      "source": [
        "##Pairplot"
      ],
      "metadata": {
        "id": "ZGL2ls9C1sGE"
      }
    },
    {
      "cell_type": "code",
      "source": [
        "sns.pairplot(df)"
      ],
      "metadata": {
        "colab": {
          "base_uri": "https://localhost:8080/",
          "height": 944
        },
        "id": "oOAZkkbI1RtE",
        "outputId": "7d2409f5-96c3-4cfe-9e92-790f90da7823"
      },
      "execution_count": null,
      "outputs": [
        {
          "output_type": "execute_result",
          "data": {
            "text/plain": [
              "<seaborn.axisgrid.PairGrid at 0x7bc55bf51150>"
            ]
          },
          "metadata": {},
          "execution_count": 23
        },
        {
          "output_type": "display_data",
          "data": {
            "text/plain": [
              "<Figure size 1250x1250 with 30 Axes>"
            ],
            "image/png": "[encoded data removed]"
          },
          "metadata": {}
        }
      ]
    },
    {
      "cell_type": "markdown",
      "source": [
        "##Removendo espaços"
      ],
      "metadata": {
        "id": "PZL7VYgx4Z4V"
      }
    },
    {
      "cell_type": "code",
      "source": [
        "columns_names = list(df)\n",
        "columns_names"
      ],
      "metadata": {
        "colab": {
          "base_uri": "https://localhost:8080/"
        },
        "id": "R6lKN_f_4Ycz",
        "outputId": "d4666ceb-d6a4-47cb-b5d3-889d10d371a1"
      },
      "execution_count": null,
      "outputs": [
        {
          "output_type": "execute_result",
          "data": {
            "text/plain": [
              "['X1', 'X2', 'X3', 'X4', 'X5']"
            ]
          },
          "metadata": {},
          "execution_count": 24
        }
      ]
    },
    {
      "cell_type": "code",
      "source": [
        "for names in columns_names[1:]:\n",
        "  for x in [names]:\n",
        "    q75,q25 = np.percentile(df.loc[:,x], [75, 25])\n",
        "    intr_qr = q75-q25\n",
        "\n",
        "    max = q75 + (1.5 * intr_qr)\n",
        "    min = q25 - (1.5 * intr_qr)\n",
        "\n",
        "    df.loc[df[x] < min, x] = np.nan\n",
        "    df.loc[df[x] > max, x] = np.nan"
      ],
      "metadata": {
        "id": "5vqP55qs4hZ8"
      },
      "execution_count": null,
      "outputs": []
    },
    {
      "cell_type": "code",
      "source": [
        "df.isnull().sum()"
      ],
      "metadata": {
        "colab": {
          "base_uri": "https://localhost:8080/",
          "height": 241
        },
        "id": "iozqye9s6zVT",
        "outputId": "d4b9903a-a197-43fb-a0a0-28354b413ced"
      },
      "execution_count": null,
      "outputs": [
        {
          "output_type": "execute_result",
          "data": {
            "text/plain": [
              "X1    0\n",
              "X2    0\n",
              "X3    0\n",
              "X4    0\n",
              "X5    0\n",
              "dtype: int64"
            ],
            "text/html": [
              "<div>\n",
              "<style scoped>\n",
              "    .dataframe tbody tr th:only-of-type {\n",
              "        vertical-align: middle;\n",
              "    }\n",
              "\n",
              "    .dataframe tbody tr th {\n",
              "        vertical-align: top;\n",
              "    }\n",
              "\n",
              "    .dataframe thead th {\n",
              "        text-align: right;\n",
              "    }\n",
              "</style>\n",
              "<table border=\"1\" class=\"dataframe\">\n",
              "  <thead>\n",
              "    <tr style=\"text-align: right;\">\n",
              "      <th></th>\n",
              "      <th>0</th>\n",
              "    </tr>\n",
              "  </thead>\n",
              "  <tbody>\n",
              "    <tr>\n",
              "      <th>X1</th>\n",
              "      <td>0</td>\n",
              "    </tr>\n",
              "    <tr>\n",
              "      <th>X2</th>\n",
              "      <td>0</td>\n",
              "    </tr>\n",
              "    <tr>\n",
              "      <th>X3</th>\n",
              "      <td>0</td>\n",
              "    </tr>\n",
              "    <tr>\n",
              "      <th>X4</th>\n",
              "      <td>0</td>\n",
              "    </tr>\n",
              "    <tr>\n",
              "      <th>X5</th>\n",
              "      <td>0</td>\n",
              "    </tr>\n",
              "  </tbody>\n",
              "</table>\n",
              "</div><br><label><b>dtype:</b> int64</label>"
            ]
          },
          "metadata": {},
          "execution_count": 25
        }
      ]
    },
    {
      "cell_type": "markdown",
      "source": [
        "##Fazendo a normalização"
      ],
      "metadata": {
        "id": "8JQMYEwI9A8K"
      }
    },
    {
      "cell_type": "code",
      "source": [
        "min_valor = df.min()\n",
        "max_valor = df.max()\n",
        "max_valor"
      ],
      "metadata": {
        "colab": {
          "base_uri": "https://localhost:8080/",
          "height": 241
        },
        "id": "YAX-h_cb9bFT",
        "outputId": "26964f5f-05b0-458a-9ebb-dc2cff5c18ed"
      },
      "execution_count": null,
      "outputs": [
        {
          "output_type": "execute_result",
          "data": {
            "text/plain": [
              "X1    972\n",
              "X2    793\n",
              "X3    971\n",
              "X4    998\n",
              "X5    882\n",
              "dtype: int64"
            ],
            "text/html": [
              "<div>\n",
              "<style scoped>\n",
              "    .dataframe tbody tr th:only-of-type {\n",
              "        vertical-align: middle;\n",
              "    }\n",
              "\n",
              "    .dataframe tbody tr th {\n",
              "        vertical-align: top;\n",
              "    }\n",
              "\n",
              "    .dataframe thead th {\n",
              "        text-align: right;\n",
              "    }\n",
              "</style>\n",
              "<table border=\"1\" class=\"dataframe\">\n",
              "  <thead>\n",
              "    <tr style=\"text-align: right;\">\n",
              "      <th></th>\n",
              "      <th>0</th>\n",
              "    </tr>\n",
              "  </thead>\n",
              "  <tbody>\n",
              "    <tr>\n",
              "      <th>X1</th>\n",
              "      <td>972</td>\n",
              "    </tr>\n",
              "    <tr>\n",
              "      <th>X2</th>\n",
              "      <td>793</td>\n",
              "    </tr>\n",
              "    <tr>\n",
              "      <th>X3</th>\n",
              "      <td>971</td>\n",
              "    </tr>\n",
              "    <tr>\n",
              "      <th>X4</th>\n",
              "      <td>998</td>\n",
              "    </tr>\n",
              "    <tr>\n",
              "      <th>X5</th>\n",
              "      <td>882</td>\n",
              "    </tr>\n",
              "  </tbody>\n",
              "</table>\n",
              "</div><br><label><b>dtype:</b> int64</label>"
            ]
          },
          "metadata": {},
          "execution_count": 33
        }
      ]
    },
    {
      "cell_type": "code",
      "source": [
        "min_valor"
      ],
      "metadata": {
        "colab": {
          "base_uri": "https://localhost:8080/",
          "height": 241
        },
        "id": "p3w72lxE9kmL",
        "outputId": "3881a0b9-ad6f-4cfc-c149-2799f62c9f00"
      },
      "execution_count": null,
      "outputs": [
        {
          "output_type": "execute_result",
          "data": {
            "text/plain": [
              "X1    0\n",
              "X2    0\n",
              "X3    7\n",
              "X4    8\n",
              "X5    0\n",
              "dtype: int64"
            ],
            "text/html": [
              "<div>\n",
              "<style scoped>\n",
              "    .dataframe tbody tr th:only-of-type {\n",
              "        vertical-align: middle;\n",
              "    }\n",
              "\n",
              "    .dataframe tbody tr th {\n",
              "        vertical-align: top;\n",
              "    }\n",
              "\n",
              "    .dataframe thead th {\n",
              "        text-align: right;\n",
              "    }\n",
              "</style>\n",
              "<table border=\"1\" class=\"dataframe\">\n",
              "  <thead>\n",
              "    <tr style=\"text-align: right;\">\n",
              "      <th></th>\n",
              "      <th>0</th>\n",
              "    </tr>\n",
              "  </thead>\n",
              "  <tbody>\n",
              "    <tr>\n",
              "      <th>X1</th>\n",
              "      <td>0</td>\n",
              "    </tr>\n",
              "    <tr>\n",
              "      <th>X2</th>\n",
              "      <td>0</td>\n",
              "    </tr>\n",
              "    <tr>\n",
              "      <th>X3</th>\n",
              "      <td>7</td>\n",
              "    </tr>\n",
              "    <tr>\n",
              "      <th>X4</th>\n",
              "      <td>8</td>\n",
              "    </tr>\n",
              "    <tr>\n",
              "      <th>X5</th>\n",
              "      <td>0</td>\n",
              "    </tr>\n",
              "  </tbody>\n",
              "</table>\n",
              "</div><br><label><b>dtype:</b> int64</label>"
            ]
          },
          "metadata": {},
          "execution_count": 32
        }
      ]
    },
    {
      "cell_type": "code",
      "source": [
        "x_Normalization = (df.iloc[2,1] - min_valor[1] / max_valor[1] )\n",
        "x_Normalization"
      ],
      "metadata": {
        "colab": {
          "base_uri": "https://localhost:8080/"
        },
        "id": "3rcpmKE39HS_",
        "outputId": "21b5d29a-0303-4db3-aa60-c4d42ba6b618"
      },
      "execution_count": null,
      "outputs": [
        {
          "output_type": "stream",
          "name": "stderr",
          "text": [
            "<ipython-input-34-0b760e12815a>:1: FutureWarning: Series.__getitem__ treating keys as positions is deprecated. In a future version, integer keys will always be treated as labels (consistent with DataFrame behavior). To access a value by position, use `ser.iloc[pos]`\n",
            "  x_Normalization = (df.iloc[2,1] - min_valor[1] / max_valor[1] )\n"
          ]
        },
        {
          "output_type": "execute_result",
          "data": {
            "text/plain": [
              "40.0"
            ]
          },
          "metadata": {},
          "execution_count": 34
        }
      ]
    },
    {
      "cell_type": "markdown",
      "source": [
        "##Padronização"
      ],
      "metadata": {
        "id": "VPtbS7GD9x0T"
      }
    },
    {
      "cell_type": "code",
      "source": [
        "x_Standarization = (df.iloc[0,0] - min_valor[0]) / (max_valor[0] - min_valor[0])\n",
        "x_Standarization"
      ],
      "metadata": {
        "colab": {
          "base_uri": "https://localhost:8080/"
        },
        "id": "oFxoInP59u9z",
        "outputId": "a65b5ba7-284b-4780-9f7b-4295281843b4"
      },
      "execution_count": null,
      "outputs": [
        {
          "output_type": "stream",
          "name": "stderr",
          "text": [
            "<ipython-input-35-522e91fe829e>:1: FutureWarning: Series.__getitem__ treating keys as positions is deprecated. In a future version, integer keys will always be treated as labels (consistent with DataFrame behavior). To access a value by position, use `ser.iloc[pos]`\n",
            "  x_Standarization = (df.iloc[0,0] - min_valor[0]) / (max_valor[0] - min_valor[0])\n"
          ]
        },
        {
          "output_type": "execute_result",
          "data": {
            "text/plain": [
              "0.10699588477366255"
            ]
          },
          "metadata": {},
          "execution_count": 35
        }
      ]
    },
    {
      "cell_type": "markdown",
      "source": [
        "#Usando Sklearn"
      ],
      "metadata": {
        "id": "78AU99vT99Wj"
      }
    },
    {
      "cell_type": "markdown",
      "source": [
        "##Padronização"
      ],
      "metadata": {
        "id": "mfDuQzzv9_7D"
      }
    },
    {
      "cell_type": "code",
      "source": [
        "from sklearn.preprocessing import StandardScaler"
      ],
      "metadata": {
        "id": "VKrbvXQY-DCr"
      },
      "execution_count": null,
      "outputs": []
    },
    {
      "cell_type": "code",
      "source": [
        "scaler = StandardScaler()"
      ],
      "metadata": {
        "id": "CFuBV2XG-GfD"
      },
      "execution_count": null,
      "outputs": []
    },
    {
      "cell_type": "code",
      "source": [
        "scaler.fit(df)"
      ],
      "metadata": {
        "colab": {
          "base_uri": "https://localhost:8080/",
          "height": 75
        },
        "id": "xhZzLdGM-Knq",
        "outputId": "e21da3b1-f443-4756-ceda-7304b0afea6d"
      },
      "execution_count": null,
      "outputs": [
        {
          "output_type": "execute_result",
          "data": {
            "text/plain": [
              "StandardScaler()"
            ],
            "text/html": [
              "<style>#sk-container-id-2 {color: black;}#sk-container-id-2 pre{padding: 0;}#sk-container-id-2 div.sk-toggleable {background-color: white;}#sk-container-id-2 label.sk-toggleable__label {cursor: pointer;display: block;width: 100%;margin-bottom: 0;padding: 0.3em;box-sizing: border-box;text-align: center;}#sk-container-id-2 label.sk-toggleable__label-arrow:before {content: \"▸\";float: left;margin-right: 0.25em;color: #696969;}#sk-container-id-2 label.sk-toggleable__label-arrow:hover:before {color: black;}#sk-container-id-2 div.sk-estimator:hover label.sk-toggleable__label-arrow:before {color: black;}#sk-container-id-2 div.sk-toggleable__content {max-height: 0;max-width: 0;overflow: hidden;text-align: left;background-color: #f0f8ff;}#sk-container-id-2 div.sk-toggleable__content pre {margin: 0.2em;color: black;border-radius: 0.25em;background-color: #f0f8ff;}#sk-container-id-2 input.sk-toggleable__control:checked~div.sk-toggleable__content {max-height: 200px;max-width: 100%;overflow: auto;}#sk-container-id-2 input.sk-toggleable__control:checked~label.sk-toggleable__label-arrow:before {content: \"▾\";}#sk-container-id-2 div.sk-estimator input.sk-toggleable__control:checked~label.sk-toggleable__label {background-color: #d4ebff;}#sk-container-id-2 div.sk-label input.sk-toggleable__control:checked~label.sk-toggleable__label {background-color: #d4ebff;}#sk-container-id-2 input.sk-hidden--visually {border: 0;clip: rect(1px 1px 1px 1px);clip: rect(1px, 1px, 1px, 1px);height: 1px;margin: -1px;overflow: hidden;padding: 0;position: absolute;width: 1px;}#sk-container-id-2 div.sk-estimator {font-family: monospace;background-color: #f0f8ff;border: 1px dotted black;border-radius: 0.25em;box-sizing: border-box;margin-bottom: 0.5em;}#sk-container-id-2 div.sk-estimator:hover {background-color: #d4ebff;}#sk-container-id-2 div.sk-parallel-item::after {content: \"\";width: 100%;border-bottom: 1px solid gray;flex-grow: 1;}#sk-container-id-2 div.sk-label:hover label.sk-toggleable__label {background-color: #d4ebff;}#sk-container-id-2 div.sk-serial::before {content: \"\";position: absolute;border-left: 1px solid gray;box-sizing: border-box;top: 0;bottom: 0;left: 50%;z-index: 0;}#sk-container-id-2 div.sk-serial {display: flex;flex-direction: column;align-items: center;background-color: white;padding-right: 0.2em;padding-left: 0.2em;position: relative;}#sk-container-id-2 div.sk-item {position: relative;z-index: 1;}#sk-container-id-2 div.sk-parallel {display: flex;align-items: stretch;justify-content: center;background-color: white;position: relative;}#sk-container-id-2 div.sk-item::before, #sk-container-id-2 div.sk-parallel-item::before {content: \"\";position: absolute;border-left: 1px solid gray;box-sizing: border-box;top: 0;bottom: 0;left: 50%;z-index: -1;}#sk-container-id-2 div.sk-parallel-item {display: flex;flex-direction: column;z-index: 1;position: relative;background-color: white;}#sk-container-id-2 div.sk-parallel-item:first-child::after {align-self: flex-end;width: 50%;}#sk-container-id-2 div.sk-parallel-item:last-child::after {align-self: flex-start;width: 50%;}#sk-container-id-2 div.sk-parallel-item:only-child::after {width: 0;}#sk-container-id-2 div.sk-dashed-wrapped {border: 1px dashed gray;margin: 0 0.4em 0.5em 0.4em;box-sizing: border-box;padding-bottom: 0.4em;background-color: white;}#sk-container-id-2 div.sk-label label {font-family: monospace;font-weight: bold;display: inline-block;line-height: 1.2em;}#sk-container-id-2 div.sk-label-container {text-align: center;}#sk-container-id-2 div.sk-container {/* jupyter's `normalize.less` sets `[hidden] { display: none; }` but bootstrap.min.css set `[hidden] { display: none !important; }` so we also need the `!important` here to be able to override the default hidden behavior on the sphinx rendered scikit-learn.org. See: https://github.com/scikit-learn/scikit-learn/issues/21755 */display: inline-block !important;position: relative;}#sk-container-id-2 div.sk-text-repr-fallback {display: none;}</style><div id=\"sk-container-id-2\" class=\"sk-top-container\"><div class=\"sk-text-repr-fallback\"><pre>StandardScaler()</pre><b>In a Jupyter environment, please rerun this cell to show the HTML representation or trust the notebook. <br />On GitHub, the HTML representation is unable to render, please try loading this page with nbviewer.org.</b></div><div class=\"sk-container\" hidden><div class=\"sk-item\"><div class=\"sk-estimator sk-toggleable\"><input class=\"sk-toggleable__control sk-hidden--visually\" id=\"sk-estimator-id-2\" type=\"checkbox\" checked><label for=\"sk-estimator-id-2\" class=\"sk-toggleable__label sk-toggleable__label-arrow\">StandardScaler</label><div class=\"sk-toggleable__content\"><pre>StandardScaler()</pre></div></div></div></div></div>"
            ]
          },
          "metadata": {},
          "execution_count": 51
        }
      ]
    },
    {
      "cell_type": "code",
      "source": [
        "scaler.transform(df)"
      ],
      "metadata": {
        "colab": {
          "base_uri": "https://localhost:8080/"
        },
        "id": "wdVIYOmb-TjK",
        "outputId": "1d438fbe-d1e4-4ea1-e21c-b5a95db10aa9"
      },
      "execution_count": null,
      "outputs": [
        {
          "output_type": "execute_result",
          "data": {
            "text/plain": [
              "array([[-9.52397957e-01,  2.78955410e-01,  2.48296648e-01,\n",
              "         1.47392805e-01,  1.47534566e+00],\n",
              "       [ 1.85260123e+00,  1.52683145e+00, -1.24666704e+00,\n",
              "         1.35999629e+00,  1.13856229e-01],\n",
              "       [ 4.08091280e-01, -1.44629603e+00, -9.45443014e-01,\n",
              "        -8.41658080e-01, -6.62918303e-01],\n",
              "       [ 1.10287794e+00, -1.47560856e+00,  1.53128787e+00,\n",
              "        -3.06486710e-01,  1.14244229e-02],\n",
              "       [ 1.34201382e+00,  1.24017780e-01,  8.06118919e-01,\n",
              "         1.32273752e+00,  1.15951425e+00],\n",
              "       [-1.01702927e+00, -9.64733129e-01, -1.25038586e+00,\n",
              "        -2.04871893e-01,  4.51027592e-01],\n",
              "       [ 1.49566009e-01,  2.87330417e-01, -2.35149321e-01,\n",
              "         1.16908360e-01,  1.13817429e+00],\n",
              "       [-9.97639880e-01,  9.28018452e-01, -4.43402969e-01,\n",
              "         1.31935036e+00,  1.23633811e+00],\n",
              "       [ 3.20839001e-01, -1.52357451e-01,  1.44169824e-01,\n",
              "        -1.39037809e+00, -1.05557356e+00],\n",
              "       [-9.52397957e-01,  2.78955410e-01,  2.48296648e-01,\n",
              "         1.47392805e-01,  1.47534566e+00],\n",
              "       [ 1.85260123e+00,  1.52683145e+00, -1.24666704e+00,\n",
              "         1.35999629e+00,  1.13856229e-01],\n",
              "       [ 4.08091280e-01, -1.44629603e+00, -9.45443014e-01,\n",
              "        -8.41658080e-01, -6.62918303e-01],\n",
              "       [ 1.10287794e+00, -1.47560856e+00,  1.53128787e+00,\n",
              "        -3.06486710e-01,  1.14244229e-02],\n",
              "       [ 1.34201382e+00,  1.24017780e-01,  8.06118919e-01,\n",
              "         1.32273752e+00,  1.15951425e+00],\n",
              "       [-1.01702927e+00, -9.64733129e-01, -1.25038586e+00,\n",
              "        -2.04871893e-01,  4.51027592e-01],\n",
              "       [ 3.95165016e-01,  9.40580962e-01, -6.78026398e-02,\n",
              "         1.57000024e+00, -1.04276959e+00],\n",
              "       [-3.44863571e-01,  1.22951870e+00,  1.40484816e+00,\n",
              "         2.32071819e-01,  6.17479278e-01],\n",
              "       [ 2.85291776e-01, -9.77295640e-01,  7.09429726e-01,\n",
              "        -1.52925167e+00,  3.91275705e-01],\n",
              "       [-9.97639880e-01,  9.28018452e-01, -4.43402969e-01,\n",
              "         1.31935036e+00,  1.23633811e+00],\n",
              "       [ 3.20839001e-01, -1.52357451e-01,  1.44169824e-01,\n",
              "        -1.39037809e+00, -1.05557356e+00],\n",
              "       [-9.52397957e-01,  2.78955410e-01,  2.48296648e-01,\n",
              "         1.47392805e-01,  1.47534566e+00],\n",
              "       [ 1.85260123e+00,  1.52683145e+00, -1.24666704e+00,\n",
              "         1.35999629e+00,  1.13856229e-01],\n",
              "       [ 4.08091280e-01, -1.44629603e+00, -9.45443014e-01,\n",
              "        -8.41658080e-01, -2.28902323e+00],\n",
              "       [ 1.10287794e+00, -1.47560856e+00,  1.53128787e+00,\n",
              "        -3.06486710e-01,  1.14244229e-02],\n",
              "       [ 1.34201382e+00,  1.24017780e-01,  8.06118919e-01,\n",
              "         1.32273752e+00,  1.15951425e+00],\n",
              "       [-1.01702927e+00, -9.64733129e-01, -1.25038586e+00,\n",
              "        -2.04871893e-01,  4.51027592e-01],\n",
              "       [ 4.08091280e-01, -1.44629603e+00, -9.45443014e-01,\n",
              "        -8.41658080e-01, -6.62918303e-01],\n",
              "       [ 1.10287794e+00, -1.47560856e+00,  1.53128787e+00,\n",
              "        -3.06486710e-01,  1.14244229e-02],\n",
              "       [ 1.34201382e+00, -1.61379617e+00,  8.06118919e-01,\n",
              "         1.32273752e+00,  1.15951425e+00],\n",
              "       [-1.01702927e+00, -9.64733129e-01, -1.25038586e+00,\n",
              "        -2.04871893e-01,  4.51027592e-01],\n",
              "       [ 1.49566009e-01,  2.87330417e-01, -2.35149321e-01,\n",
              "         1.16908360e-01,  1.13817429e+00],\n",
              "       [-9.97639880e-01,  9.28018452e-01, -4.43402969e-01,\n",
              "         1.31935036e+00,  1.23633811e+00],\n",
              "       [ 3.20839001e-01, -1.52357451e-01,  1.44169824e-01,\n",
              "        -1.39037809e+00, -1.05557356e+00],\n",
              "       [-9.52397957e-01,  2.78955410e-01,  2.48296648e-01,\n",
              "         1.47392805e-01,  1.47534566e+00],\n",
              "       [ 1.85260123e+00,  1.52683145e+00, -1.24666704e+00,\n",
              "         1.35999629e+00,  1.13856229e-01],\n",
              "       [ 4.08091280e-01, -1.44629603e+00, -9.45443014e-01,\n",
              "        -8.41658080e-01, -6.62918303e-01],\n",
              "       [ 1.10287794e+00, -1.47560856e+00,  1.53128787e+00,\n",
              "        -3.06486710e-01,  1.14244229e-02],\n",
              "       [ 1.34201382e+00,  1.24017780e-01,  8.06118919e-01,\n",
              "         1.32273752e+00,  1.15951425e+00],\n",
              "       [-1.01702927e+00, -1.61379617e+00, -1.25038586e+00,\n",
              "        -2.04871893e-01,  4.51027592e-01],\n",
              "       [ 3.95165016e-01,  9.40580962e-01, -6.78026398e-02,\n",
              "         1.57000024e+00, -1.04276959e+00],\n",
              "       [-3.44863571e-01,  1.22951870e+00,  1.40484816e+00,\n",
              "         2.32071819e-01,  6.17479278e-01],\n",
              "       [ 2.85291776e-01, -9.77295640e-01,  7.09429726e-01,\n",
              "        -1.52925167e+00,  3.91275705e-01],\n",
              "       [-9.97639880e-01,  9.28018452e-01, -4.43402969e-01,\n",
              "         1.31935036e+00,  1.23633811e+00],\n",
              "       [ 3.20839001e-01, -1.52357451e-01,  1.44169824e-01,\n",
              "        -1.39037809e+00, -1.05557356e+00],\n",
              "       [-9.52397957e-01,  2.78955410e-01,  2.48296648e-01,\n",
              "         1.47392805e-01,  1.47534566e+00],\n",
              "       [ 1.85260123e+00,  1.52683145e+00, -1.24666704e+00,\n",
              "         1.35999629e+00,  1.13856229e-01],\n",
              "       [ 4.08091280e-01, -1.44629603e+00, -9.45443014e-01,\n",
              "        -8.41658080e-01, -6.62918303e-01],\n",
              "       [ 1.10287794e+00, -1.47560856e+00,  1.53128787e+00,\n",
              "        -3.06486710e-01,  1.14244229e-02],\n",
              "       [ 1.34201382e+00,  1.24017780e-01,  8.06118919e-01,\n",
              "         1.32273752e+00,  1.15951425e+00],\n",
              "       [-1.01702927e+00, -9.64733129e-01, -1.25038586e+00,\n",
              "        -2.04871893e-01,  4.51027592e-01],\n",
              "       [ 1.49566009e-01,  2.87330417e-01, -2.35149321e-01,\n",
              "         1.16908360e-01,  1.13817429e+00],\n",
              "       [-9.97639880e-01,  9.28018452e-01, -4.43402969e-01,\n",
              "         1.31935036e+00,  1.23633811e+00],\n",
              "       [ 3.20839001e-01, -1.52357451e-01,  1.44169824e-01,\n",
              "        -1.39037809e+00, -1.05557356e+00],\n",
              "       [-5.38757524e-01,  1.49142801e-01,  2.55734278e-01,\n",
              "         1.74490090e-03, -2.28048725e+00],\n",
              "       [ 1.76858052e+00, -7.42795444e-01,  7.13148541e-01,\n",
              "        -2.92938068e-01,  6.04675302e-01],\n",
              "       [-1.24970202e+00, -8.26545514e-01,  1.66516522e+00,\n",
              "         5.50464912e-01, -2.83067021e-01],\n",
              "       [-1.28848081e+00,  1.70689410e+00, -3.39276145e-01,\n",
              "        -1.51909019e+00, -9.83017698e-01],\n",
              "       [ 3.95165016e-01,  9.40580962e-01, -6.78026398e-02,\n",
              "         1.57000024e+00, -1.04276959e+00],\n",
              "       [-3.44863571e-01,  1.22951870e+00,  1.40484816e+00,\n",
              "         2.32071819e-01,  6.17479278e-01],\n",
              "       [ 2.85291776e-01, -9.77295640e-01,  7.09429726e-01,\n",
              "        -1.52925167e+00,  3.91275705e-01],\n",
              "       [-9.97639880e-01,  9.28018452e-01, -4.43402969e-01,\n",
              "         1.31935036e+00,  1.23633811e+00],\n",
              "       [ 3.20839001e-01, -1.52357451e-01,  1.44169824e-01,\n",
              "        -1.39037809e+00, -1.05557356e+00],\n",
              "       [-1.01702927e+00, -9.64733129e-01, -1.25038586e+00,\n",
              "        -2.04871893e-01,  4.51027592e-01],\n",
              "       [-9.26545430e-01,  6.60018228e-01, -1.89745969e+00,\n",
              "         5.43690591e-01, -7.44010150e-01],\n",
              "       [-1.28848081e+00,  1.70689410e+00, -3.39276145e-01,\n",
              "        -1.51909019e+00, -9.83017698e-01],\n",
              "       [-1.01702927e+00, -9.64733129e-01, -1.25038586e+00,\n",
              "        -2.04871893e-01,  4.51027592e-01],\n",
              "       [ 1.49566009e-01,  2.87330417e-01, -2.35149321e-01,\n",
              "         1.16908360e-01,  1.13817429e+00],\n",
              "       [ 8.02342317e-01,  8.27518368e-01,  1.28212726e+00,\n",
              "        -1.47505710e+00, -1.81954412e+00],\n",
              "       [-5.25831261e-01,  6.05580683e-01, -7.89252778e-01,\n",
              "        -1.78328872e+00, -1.30738509e+00],\n",
              "       [-5.38757524e-01,  1.49142801e-01,  2.55734278e-01,\n",
              "         1.74490090e-03, -2.28048725e+00],\n",
              "       [ 1.76858052e+00, -7.42795444e-01,  7.13148541e-01,\n",
              "        -2.92938068e-01,  6.04675302e-01],\n",
              "       [-1.24970202e+00, -8.26545514e-01,  1.66516522e+00,\n",
              "         5.50464912e-01, -2.83067021e-01],\n",
              "       [-1.28848081e+00,  1.70689410e+00, -3.39276145e-01,\n",
              "        -1.51909019e+00, -9.83017698e-01],\n",
              "       [ 3.95165016e-01,  9.40580962e-01, -6.78026398e-02,\n",
              "         1.57000024e+00, -1.04276959e+00],\n",
              "       [-3.44863571e-01,  1.22951870e+00,  1.40484816e+00,\n",
              "         2.32071819e-01,  6.17479278e-01],\n",
              "       [ 2.85291776e-01, -9.77295640e-01,  7.09429726e-01,\n",
              "        -1.52925167e+00,  3.91275705e-01],\n",
              "       [-9.97639880e-01,  9.28018452e-01, -4.43402969e-01,\n",
              "         1.31935036e+00,  1.23633811e+00],\n",
              "       [ 3.20839001e-01, -1.52357451e-01,  1.44169824e-01,\n",
              "        -1.39037809e+00, -1.05557356e+00],\n",
              "       [-1.01702927e+00, -9.64733129e-01, -1.25038586e+00,\n",
              "        -2.04871893e-01,  4.51027592e-01],\n",
              "       [-9.26545430e-01,  6.60018228e-01, -1.89745969e+00,\n",
              "         5.43690591e-01, -7.44010150e-01],\n",
              "       [ 1.76858052e+00, -7.42795444e-01,  7.13148541e-01,\n",
              "        -2.92938068e-01,  6.04675302e-01],\n",
              "       [-1.24970202e+00, -8.26545514e-01,  1.66516522e+00,\n",
              "         5.50464912e-01, -2.83067021e-01],\n",
              "       [-1.28848081e+00,  1.70689410e+00, -3.39276145e-01,\n",
              "        -1.51909019e+00, -9.83017698e-01],\n",
              "       [ 3.95165016e-01,  9.40580962e-01, -6.78026398e-02,\n",
              "         1.57000024e+00, -1.04276959e+00],\n",
              "       [-3.44863571e-01,  1.22951870e+00,  1.40484816e+00,\n",
              "         2.32071819e-01,  6.17479278e-01],\n",
              "       [ 2.85291776e-01, -9.77295640e-01,  7.09429726e-01,\n",
              "        -1.52925167e+00,  3.91275705e-01],\n",
              "       [-9.97639880e-01,  9.28018452e-01, -4.43402969e-01,\n",
              "         1.31935036e+00,  1.23633811e+00],\n",
              "       [ 3.20839001e-01, -1.52357451e-01,  1.44169824e-01,\n",
              "        -1.39037809e+00, -1.05557356e+00],\n",
              "       [-1.01702927e+00, -9.64733129e-01, -1.25038586e+00,\n",
              "        -2.04871893e-01,  4.51027592e-01],\n",
              "       [-9.26545430e-01,  6.60018228e-01, -1.89745969e+00,\n",
              "         5.43690591e-01, -7.44010150e-01],\n",
              "       [-5.38757524e-01,  1.49142801e-01,  2.55734278e-01,\n",
              "         1.74490090e-03, -2.28048725e+00],\n",
              "       [ 1.76858052e+00, -7.42795444e-01,  7.13148541e-01,\n",
              "        -2.92938068e-01,  6.04675302e-01],\n",
              "       [-1.24970202e+00, -8.26545514e-01,  1.66516522e+00,\n",
              "         5.50464912e-01, -2.83067021e-01],\n",
              "       [-1.28848081e+00,  1.70689410e+00, -3.39276145e-01,\n",
              "        -1.51909019e+00, -9.83017698e-01],\n",
              "       [-9.26545430e-01,  6.60018228e-01, -1.89745969e+00,\n",
              "         5.43690591e-01, -7.44010150e-01],\n",
              "       [-5.38757524e-01,  1.49142801e-01,  2.55734278e-01,\n",
              "         1.74490090e-03, -2.28048725e+00],\n",
              "       [ 1.76858052e+00, -7.42795444e-01,  7.13148541e-01,\n",
              "        -2.92938068e-01,  6.04675302e-01],\n",
              "       [ 7.99110751e-01, -3.70107632e-01,  1.68747811e+00,\n",
              "        -4.08101527e-01, -7.14134206e-01],\n",
              "       [-9.26545430e-01,  6.60018228e-01, -1.89745969e+00,\n",
              "         5.43690591e-01, -7.44010150e-01]])"
            ]
          },
          "metadata": {},
          "execution_count": 52
        }
      ]
    },
    {
      "cell_type": "code",
      "source": [
        "transformed_data = scaler.transform(df)\n",
        "scaler_df = pd.DataFrame(data = transformed_data, columns=df.columns)\n",
        "print(scaler_df)"
      ],
      "metadata": {
        "colab": {
          "base_uri": "https://localhost:8080/"
        },
        "id": "JLI-Lt-K-Y-r",
        "outputId": "8cb3f613-bca9-4c1b-e840-9cc738c18404"
      },
      "execution_count": null,
      "outputs": [
        {
          "output_type": "stream",
          "name": "stdout",
          "text": [
            "          X1        X2        X3        X4        X5\n",
            "0  -0.952398  0.278955  0.248297  0.147393  1.475346\n",
            "1   1.852601  1.526831 -1.246667  1.359996  0.113856\n",
            "2   0.408091 -1.446296 -0.945443 -0.841658 -0.662918\n",
            "3   1.102878 -1.475609  1.531288 -0.306487  0.011424\n",
            "4   1.342014  0.124018  0.806119  1.322738  1.159514\n",
            "..       ...       ...       ...       ...       ...\n",
            "94 -0.926545  0.660018 -1.897460  0.543691 -0.744010\n",
            "95 -0.538758  0.149143  0.255734  0.001745 -2.280487\n",
            "96  1.768581 -0.742795  0.713149 -0.292938  0.604675\n",
            "97  0.799111 -0.370108  1.687478 -0.408102 -0.714134\n",
            "98 -0.926545  0.660018 -1.897460  0.543691 -0.744010\n",
            "\n",
            "[99 rows x 5 columns]\n"
          ]
        }
      ]
    },
    {
      "cell_type": "code",
      "source": [
        "scaler_df.plot.kde()"
      ],
      "metadata": {
        "colab": {
          "base_uri": "https://localhost:8080/",
          "height": 447
        },
        "id": "NitdlgF_-gs7",
        "outputId": "20d3dcdf-e1ac-40cb-e399-ae10dadcb13c"
      },
      "execution_count": null,
      "outputs": [
        {
          "output_type": "execute_result",
          "data": {
            "text/plain": [
              "<Axes: ylabel='Density'>"
            ]
          },
          "metadata": {},
          "execution_count": 55
        },
        {
          "output_type": "display_data",
          "data": {
            "text/plain": [
              "<Figure size 640x480 with 1 Axes>"
            ],
            "image/png": "[encoded data removed]"
          },
          "metadata": {}
        }
      ]
    }
  ]
}